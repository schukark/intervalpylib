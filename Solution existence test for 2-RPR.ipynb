{
 "cells": [
  {
   "cell_type": "code",
   "execution_count": 110,
   "id": "13ee835f",
   "metadata": {},
   "outputs": [],
   "source": [
    "import numpy as np\n",
    "import sympy as sym\n",
    "import intervalpy as ival\n",
    "import itertools as it\n",
    "import matplotlib.pyplot as plt\n",
    "import matplotlib.patches as mpatches\n",
    "import matplotlib.lines as mlines\n",
    "from matplotlib.patches import Rectangle\n",
    "\n",
    "%matplotlib inline"
   ]
  },
  {
   "cell_type": "code",
   "execution_count": 111,
   "id": "097936a3",
   "metadata": {},
   "outputs": [],
   "source": [
    "def symbolic_2rpr_func(d=8):\n",
    "    \"\"\"\n",
    "    Creating symbol variables for 2-RPR system\n",
    "    :return: symbolic eq. system,\n",
    "            symbolic u (fixed boxes),\n",
    "            symbolic x (checking boxes)\n",
    "    \"\"\"\n",
    "    v = sym.symbols('v1, v2')\n",
    "    x = sym.Matrix([v[0], v[1]])\n",
    "    u = sym.symbols('u1, u2')\n",
    "    f = sym.Matrix([[v[0] ** 2 - (u[0] + 0.5 * d) ** 2 - u[1] ** 2],\n",
    "                    [v[1] ** 2 - (u[0] - 0.5 * d) ** 2 - u[1] ** 2]])\n",
    "    return f, u, x"
   ]
  },
  {
   "cell_type": "code",
   "execution_count": 112,
   "id": "a41047c0",
   "metadata": {},
   "outputs": [],
   "source": [
    "def derive_matrix(f, x):\n",
    "    \"\"\"\n",
    "    Function for calculating partial derivative of matrix g\n",
    "    :param f : array to be derived\n",
    "    :param x : variables for derivative\n",
    "    :return gv: derived matrix\n",
    "    \"\"\"\n",
    "    g_v_all = []\n",
    "    for i in range(len(x)):\n",
    "        g_v_all.append(sym.diff(f, x[i]))  # Calculate derivative of G with respect to v\n",
    "    gv = sym.Matrix()\n",
    "    for i in range(len(g_v_all)):\n",
    "        gv = sym.Matrix([gv, g_v_all[i]])\n",
    "    gv = gv.reshape(f.shape[0], len(x)).T\n",
    "    return gv"
   ]
  },
  {
   "cell_type": "code",
   "execution_count": 113,
   "id": "d56ee6c0",
   "metadata": {},
   "outputs": [],
   "source": [
    "def make_boxes_list(grid, dim, uniform=True):\n",
    "        \"\"\"\n",
    "        Make list of boxes in dim dimension from vector grid\n",
    "        :param grid: vector on which grid is constructed\n",
    "        :param dim:  the dimensional of grid\n",
    "        :return: the list of boxes in dim\n",
    "        \"\"\"\n",
    "        if uniform == True:\n",
    "            grid_size = len(grid) - 1\n",
    "            grid_intervals = []\n",
    "            grid_variants = []\n",
    "            for i in range(grid_size):\n",
    "                grid_intervals.append(ival.Interval([grid[i], grid[i + 1]]))\n",
    "            for i in range(dim):\n",
    "                grid_variants.append(grid_intervals)\n",
    "            grid_n_size = list(it.product(*grid_variants))\n",
    "        else:\n",
    "            grid_variants = []\n",
    "            grid_numbers = np.shape(grid)[0]\n",
    "            for i in range(grid_numbers):\n",
    "                grid_intervals = []\n",
    "                one_grid = grid[i]\n",
    "                grid_size = len(one_grid) - 1\n",
    "                for j in range(grid_size):\n",
    "                    grid_intervals.append(ival.Interval([one_grid[j], one_grid[j + 1]]))\n",
    "                grid_variants.append(grid_intervals)\n",
    "            grid_n_size = list(it.product(*grid_variants))\n",
    "        return grid_n_size"
   ]
  },
  {
   "cell_type": "code",
   "execution_count": 114,
   "id": "b98e16b8",
   "metadata": {},
   "outputs": [],
   "source": [
    "def plot_area_2RPR(ax, r1=3, r2=15, d=8):\n",
    "    circle = plt.Circle((-0.5*d, 0), radius=r1, fc='y', fill=False, color=\"blue\")\n",
    "    ax.add_patch(circle)\n",
    "    circle = plt.Circle((0.5*d, 0), radius=r1, fc='y', fill=False, color=\"red\")\n",
    "    ax.add_patch(circle)\n",
    "    circle = plt.Circle((-0.5*d, 0), radius=r2, fc='y', fill=False, color=\"blue\")\n",
    "    ax.add_patch(circle)\n",
    "    circle = plt.Circle((0.5*d, 0), radius=r2, fc='y', fill=False, color=\"red\")\n",
    "    ax.add_patch(circle)\n",
    "    ax.set_xlim([-20, 20])\n",
    "    ax.set_ylim([-20, 20])\n",
    "    ax.grid()"
   ]
  },
  {
   "cell_type": "code",
   "execution_count": 115,
   "id": "4b70cc56",
   "metadata": {},
   "outputs": [],
   "source": [
    "def uni_plotter(area_points, border_points, ini_box=None, title=\"\", ax=0, size=0, outside_boxes=None, legend=False, \n",
    "                logger=0, plot_area=None, pa_params=None):\n",
    "    \"\"\"\n",
    "    Function for plotting boxes of different types\n",
    "    :param area_points: array of inside boxes of shape (n, 2*size)\n",
    "    :param border_points: array of inside boxes of shape (m, 2*size)\n",
    "    :param ini_box: the initial box, the array of shape (size, 2)\n",
    "    :param title: the title for the plot, string\n",
    "    :param ax: the axes object\n",
    "    :param size: the dimensional of the output space, int\n",
    "    :param outside_boxes: array of outside boxes of shape (k, 2*size)\n",
    "    :return:\n",
    "    \"\"\"\n",
    "    plt.rcParams.update({'font.size': 18})\n",
    "    handles = []\n",
    "    if size == 1:\n",
    "        if ax == 0:\n",
    "            fig, ax = plt.subplots(figsize=(14, 2))\n",
    "        if ini_box:\n",
    "            ini_legend = mlines.Line2D([], [], color='blue', label='Initial interval')\n",
    "            handles.append(ini_legend)\n",
    "            x_lim = ini_box\n",
    "            x_min, x_max = x_lim[0] - abs(x_lim[0]) / 10, x_lim[1] + abs(x_lim[1]) / 10\n",
    "            ax.set_xlim([x_min, x_max])\n",
    "            ax.set_ylim([-1, 1])\n",
    "            ax.plot([x_lim[0], x_lim[1]], [0, 0], linewidth = 12, alpha = 0.4, c = \"blue\")\n",
    "        for i in range(len(area_points)):\n",
    "            ax.plot([area_points[i][0][0], area_points[i][0][1]],[0, 0], marker = \"|\", color = \"green\")\n",
    "        for i in range(len(border_points)):\n",
    "            ax.plot([border_points[i][0][0], border_points[i][0][1]],[0, 0], marker = \"|\", color = \"yellow\")\n",
    "        if np.any(outside_boxes):\n",
    "            outside_legend = mlines.Line2D([], [], color='black', label='Outside intervals')\n",
    "            handles.append(outside_legend)\n",
    "            for i in range(len(outside_boxes)):\n",
    "                ax.plot([outside_boxes[i][0][0], outside_boxes[i][0][1]],[0, 0], marker = \"|\", color = \"black\")\n",
    "        inside_legend = mlines.Line2D([], [], color='green', label='Inside intervals')\n",
    "        border_legend = mlines.Line2D([], [], color='yellow', label='Border intervals')\n",
    "        handles.append(inside_legend)\n",
    "        handles.append(border_legend)\n",
    "    elif size == 2:\n",
    "        if ax == 0:\n",
    "            fig, ax = plt.subplots(figsize=(12, 6))\n",
    "        if ini_box:\n",
    "\n",
    "            x_lim = ini_box[0]\n",
    "            y_lim = ini_box[1]\n",
    "            x_min, y_min, x_max, y_max = x_lim[0] - abs(x_lim[0]) / 10, y_lim[0] - abs(y_lim[0]) / 10, \\\n",
    "                                         x_lim[1] + abs(x_lim[1]) / 10, y_lim[1] + abs(y_lim[1]) / 10\n",
    "            ax.set_ylim([y_min, y_max])\n",
    "            ax.set_xlim([x_min, x_max])\n",
    "            rect1 = Rectangle((x_lim[0], y_lim[0]), x_lim[1] - x_lim[0], y_lim[1] - y_lim[0], fill=False, color='red',\n",
    "                              linewidth=2.0)\n",
    "            ax.add_patch(rect1)\n",
    "            ini_legend = mlines.Line2D([], [], color='red', label='Initial box')\n",
    "            handles.append(ini_legend)\n",
    "        ax.axes.set_aspect('equal')\n",
    "        for i in range(len(area_points)):  # Plot rectangles, which compose workspace area\n",
    "            rect1 = Rectangle((area_points[i][0][0], area_points[i][1][0]),\n",
    "                              area_points[i][0][1] - area_points[i][0][0],\n",
    "                              area_points[i][1][1] - area_points[i][1][0],\n",
    "                              fill=True, fc='green', color='black', linewidth=0.5, alpha=0.8)\n",
    "            ax.add_patch(rect1)\n",
    "        for i in range(len(border_points)):  # Plot rectangles, which compose the border of workspace area\n",
    "            rect1 = Rectangle((border_points[i][0][0], border_points[i][1][0]),\n",
    "                              border_points[i][0][1] - border_points[i][0][0],\n",
    "                              border_points[i][1][1] - border_points[i][1][0],\n",
    "                              fill=True, fc='yellow', color='black', linewidth=0.5, alpha=0.8)\n",
    "            ax.add_patch(rect1)\n",
    "        if np.any(outside_boxes):\n",
    "            outside_legend = mpatches.Patch(color='black', label='Outside boxes')\n",
    "            handles.append(outside_legend)\n",
    "            for i in range(len(outside_boxes)):  # Plot rectangles, which compose the border of workspace area\n",
    "                rect1 = Rectangle((outside_boxes[i][0][0], outside_boxes[i][1][0]),\n",
    "                                  outside_boxes[i][0][1] - outside_boxes[i][0][0],\n",
    "                                  outside_boxes[i][1][1] - outside_boxes[i][1][0],\n",
    "                                  fill=True, fc='black', color='black', linewidth=0.5, alpha=0.8)\n",
    "                ax.add_patch(rect1)\n",
    "        inside_legend = mpatches.Patch(color='green', label='Inside boxes')\n",
    "        border_legend = mpatches.Patch(color='yellow', label='Border boxes')\n",
    "        handles.append(inside_legend)\n",
    "        handles.append(border_legend)\n",
    "    else:\n",
    "        if ax == 0:\n",
    "            fig = plt.figure(figsize=(8, 8))\n",
    "            ax = fig.add_subplot(111, projection='3d')\n",
    "        if ini_box:\n",
    "            x_lim = ini_box[0]\n",
    "            y_lim = ini_box[1]\n",
    "            z_lim = ini_box[2]\n",
    "            x_min, y_min, z_min, x_max, y_max, z_max = x_lim[0] - abs(x_lim[0]) / 10, y_lim[0] - abs(y_lim[0]) / 10, z_lim[0] - abs(z_lim[0]) / 10,\\\n",
    "                                         x_lim[1] + abs(x_lim[1]) / 10, y_lim[1] + abs(y_lim[1]) / 10,  z_lim[1] + abs(z_lim[1]) / 10\n",
    "            ax.set_ylim([y_min, y_max])\n",
    "            ax.set_xlim([x_min, x_max])\n",
    "            ax.set_zlim([z_min, z_max])\n",
    "            plot_linear_cube(ax, x_min, y_min, z_min, abs(x_max - x_min), abs(y_max - y_min), abs(z_max - z_min), color=\"red\")\n",
    "            ini_legend = mlines.Line2D([], [], color='red', label='Initial box')\n",
    "            handles.append(ini_legend)\n",
    "        for i in range(len(area_points)):\n",
    "            plot_linear_cube(ax, area_points[i][0][0], area_points[i][1][0], area_points[i][2][0],\n",
    "                             area_points[i][0][1] - area_points[i][0][0], area_points[i][1][1] - area_points[i][1][0],\n",
    "                             area_points[i][2][1] - area_points[i][2][0], color=\"green\")\n",
    "        for i in range(len(border_points)):\n",
    "            plot_linear_cube(ax, border_points[i][0][0], border_points[i][1][0], border_points[i][2][0],\n",
    "                             border_points[i][0][1] - border_points[i][0][0],\n",
    "                             border_points[i][1][1] - border_points[i][1][0],\n",
    "                             border_points[i][2][1] - border_points[i][2][0], color=\"yellow\")\n",
    "        if np.any(outside_boxes):\n",
    "            for i in range(len(outside_boxes)):\n",
    "                outside_legend = mpatches.Patch(color='black', label='Outside boxes')\n",
    "                handles.append(outside_legend)\n",
    "                plot_linear_cube(ax, outside_boxes[i][0][0], outside_boxes[i][1][0], outside_boxes[i][2][0],\n",
    "                                 outside_boxes[i][0][1] - outside_boxes[i][0][0],\n",
    "                                 outside_boxes[i][1][1] - outside_boxes[i][1][0],\n",
    "                                 outside_boxes[i][2][1] - outside_boxes[i][2][0], color=\"black\")\n",
    "        inside_legend = mpatches.Patch(color='green', label='Inside boxes')\n",
    "        border_legend = mpatches.Patch(color='yellow', label='Border boxes')\n",
    "        handles.append(inside_legend)\n",
    "        handles.append(border_legend)\n",
    "    ax.set_title(title, fontsize=12)\n",
    "    ax.tick_params(axis='both', which='major', labelsize=10)\n",
    "    ax.tick_params(axis='both', which='minor', labelsize=8)\n",
    "    if legend:\n",
    "        ax.legend(bbox_to_anchor=(1.05, 1.0), loc='upper left', handles=handles)\n",
    "    plt.tight_layout()\n",
    "    if plot_area!=None:\n",
    "        plot_area(ax, *pa_params)\n",
    "\n",
    "    if logger != 0:\n",
    "        \n",
    "\n",
    "#         cid = fig.canvas.mpl_connect('button_press_event', onclick)\n",
    "#         print(\"Logger\")\n",
    "        Click_Obj = Clicker(logger, fig)\n",
    "#     plt.show()"
   ]
  },
  {
   "cell_type": "code",
   "execution_count": 116,
   "id": "b3e2b62a",
   "metadata": {},
   "outputs": [],
   "source": [
    "f_sym, u_sym, x_sym = symbolic_2rpr_func()"
   ]
  },
  {
   "cell_type": "code",
   "execution_count": 117,
   "id": "4c653209",
   "metadata": {},
   "outputs": [
    {
     "data": {
      "text/latex": [
       "$\\displaystyle \\left[\\begin{matrix}- u_{2}^{2} + v_{1}^{2} - 16.0 \\left(0.25 u_{1} + 1\\right)^{2}\\\\- u_{2}^{2} + v_{2}^{2} - 16.0 \\left(0.25 u_{1} - 1\\right)^{2}\\end{matrix}\\right]$"
      ],
      "text/plain": [
       "Matrix([\n",
       "[-u2**2 + v1**2 - 16.0*(0.25*u1 + 1)**2],\n",
       "[-u2**2 + v2**2 - 16.0*(0.25*u1 - 1)**2]])"
      ]
     },
     "execution_count": 117,
     "metadata": {},
     "output_type": "execute_result"
    }
   ],
   "source": [
    "f_sym"
   ]
  },
  {
   "cell_type": "code",
   "execution_count": 118,
   "id": "d123e46e",
   "metadata": {},
   "outputs": [],
   "source": [
    "df_sym = derive_matrix(f_sym, x_sym)"
   ]
  },
  {
   "cell_type": "code",
   "execution_count": 119,
   "id": "e10651f1",
   "metadata": {},
   "outputs": [
    {
     "data": {
      "text/latex": [
       "$\\displaystyle \\left[\\begin{matrix}2 v_{1} & 0\\\\0 & 2 v_{2}\\end{matrix}\\right]$"
      ],
      "text/plain": [
       "Matrix([\n",
       "[2*v1,    0],\n",
       "[   0, 2*v2]])"
      ]
     },
     "execution_count": 119,
     "metadata": {},
     "output_type": "execute_result"
    }
   ],
   "source": [
    "df_sym"
   ]
  },
  {
   "cell_type": "code",
   "execution_count": 120,
   "id": "b503ebee",
   "metadata": {},
   "outputs": [],
   "source": [
    "u_l = -20\n",
    "u_u = 20\n",
    "N = 100\n",
    "u_x = [u_l, u_u]\n",
    "u_y = [u_l, u_u]\n",
    "grid_u1 = np.linspace(u_x[0], u_x[1], N + 1)  # The vector to build size-dim. grid\n",
    "grid_u2 = np.linspace(u_y[0], u_y[1], N + 1)  # The vector to build size-dim. grid\n",
    "grid_u = [grid_u1, grid_u2]\n",
    "all_boxes = make_boxes_list(grid_u, 2, False)"
   ]
  },
  {
   "cell_type": "code",
   "execution_count": 121,
   "id": "56bc66eb",
   "metadata": {},
   "outputs": [
    {
     "data": {
      "text/plain": [
       "array([[3, 15], [3, 15]], dtype=object)"
      ]
     },
     "execution_count": 121,
     "metadata": {},
     "output_type": "execute_result"
    }
   ],
   "source": [
    "dim = 2\n",
    "box = all_boxes[1025] # inside\n",
    "# box = all_boxes[833] # inside\n",
    "# box = all_boxes[1225] # border\n",
    "# box = all_boxes[943] # border\n",
    "# box = all_boxes[0] # outside\n",
    "# box = all_boxes[-1] # outside\n",
    "df_num_lam = sym.lambdify([u_sym, x_sym], df_sym)\n",
    "f_num_lam = sym.lambdify([u_sym, x_sym], f_sym)\n",
    "f = lambda x: f_num_lam(box, x)\n",
    "df = lambda x: df_num_lam(box, x)\n",
    "x_num = []\n",
    "ini_x = ival.Interval([3, 15])\n",
    "for i in range(dim):\n",
    "    x_num.append(ini_x)\n",
    "\n",
    "x_num = np.array(x_num)\n",
    "x_num"
   ]
  },
  {
   "cell_type": "code",
   "execution_count": 122,
   "id": "a9f22e94",
   "metadata": {},
   "outputs": [
    {
     "data": {
      "text/plain": [
       "array([[[-235.0, -1.72]],\n",
       "       [[-491.0, -251.32]]], dtype=object)"
      ]
     },
     "execution_count": 122,
     "metadata": {},
     "output_type": "execute_result"
    }
   ],
   "source": [
    "f(x_num)"
   ]
  },
  {
   "cell_type": "code",
   "execution_count": 123,
   "id": "783eb24b",
   "metadata": {},
   "outputs": [
    {
     "data": {
      "text/plain": [
       "array([[[6, 30], 0],\n",
       "       [0, [6, 30]]], dtype=object)"
      ]
     },
     "execution_count": 123,
     "metadata": {},
     "output_type": "execute_result"
    }
   ],
   "source": [
    "df(x_num)"
   ]
  },
  {
   "cell_type": "code",
   "execution_count": 124,
   "id": "53bdf5dd",
   "metadata": {},
   "outputs": [],
   "source": [
    "def lambda_calcul(L, coef=1):\n",
    "    mid_matrix = L\n",
    "    n = L.shape[0]\n",
    "\n",
    "    for i in range(n):\n",
    "        for j in range(n):\n",
    "            if not isinstance(mid_matrix[i, j] , ival.Interval):\n",
    "                continue\n",
    "            mid_matrix[i, j] = mid_matrix[i, j].mid()\n",
    "    \n",
    "    mid_matrix = mid_matrix.astype(dtype=np.float64)\n",
    "\n",
    "    if np.linalg.det(mid_matrix) == 0:\n",
    "        for i in range(n):\n",
    "            mid_matrix[i, i] += 1\n",
    "    \n",
    "    Lambda = np.linalg.inv(mid_matrix)\n",
    "    return Lambda"
   ]
  },
  {
   "cell_type": "code",
   "execution_count": 125,
   "id": "2807b831",
   "metadata": {},
   "outputs": [
    {
     "name": "stdout",
     "output_type": "stream",
     "text": [
      "[[0.05555556 0.        ]\n",
      " [0.         0.05555556]]\n"
     ]
    }
   ],
   "source": [
    "c = [xi.mid() for xi in x_num]\n",
    "Lambda = lambda_calcul(df(x_num))\n",
    "print(Lambda)"
   ]
  },
  {
   "cell_type": "code",
   "execution_count": 126,
   "id": "ac2e1a00",
   "metadata": {},
   "outputs": [],
   "source": [
    "def intersec(a, b):\n",
    "    if a[1] < b[0] or b[1] < a[0]:\n",
    "            return None\n",
    "    else:\n",
    "        return ival.Interval([max(a[0], b[0]), min(a[1], b[1])])"
   ]
  },
  {
   "cell_type": "code",
   "execution_count": 127,
   "id": "cd73197e",
   "metadata": {},
   "outputs": [],
   "source": [
    "def krawczyk(f_num, df_num, x, c, Lambda, verbose=False):\n",
    "    Kr = c - np.squeeze(np.matmul(Lambda, f_num(c))) + np.dot((np.identity(len(c)) - np.matmul(Lambda, df_num(x))), (x - c))\n",
    "\n",
    "    for i in range(len(Kr)):\n",
    "        if isinstance(Kr[i], ival.Interval):\n",
    "            continue\n",
    "        \n",
    "        tmp = Kr[i]\n",
    "        Kr[i] = ival.Interval([tmp, tmp])\n",
    "\n",
    "    return Kr"
   ]
  },
  {
   "cell_type": "code",
   "execution_count": 128,
   "id": "498b53ab",
   "metadata": {},
   "outputs": [],
   "source": [
    "def iterative_method_root_exictence_default_ia(f, df, x_ini, method, lambda_calcul = lambda_calcul, \n",
    "                                               eps = 10e-6, max_iters=100, verbose=True):\n",
    "    n = len(x_ini)\n",
    "    num_iters = 0\n",
    "    queue = [x_ini]\n",
    "    tol_mark = False\n",
    "    while len(queue)!=0:\n",
    "        x = queue.pop(0)\n",
    "        tol = max([x_i.width() for x_i in x])\n",
    "        if np.all(ival.Interval([0, 0]).isIn(f[i](x[i])) for i in range(n)):\n",
    "            num_iters+=1\n",
    "            if verbose:\n",
    "                print(\"iter\", num_iters)\n",
    "                print(\"\\tqueue\", queue)\n",
    "                print(\"\\tx\", x)\n",
    "            c = np.array([xi.mid() for xi in x])\n",
    "            Lambda = lambda_calcul(df(x))\n",
    "            x_res = method(f, df, x, c, Lambda, verbose=False)\n",
    "            if verbose:\n",
    "                print(\"\\tMethod res\", x_res)\n",
    "            x_intersec = np.array([intersec(x_res[i], x[i]) for i in range(n)])\n",
    "            if verbose:\n",
    "                print(\"\\tIntersection\", x_intersec)\n",
    "            if np.all([x_res[i].isIn(x[i]) for i in range(n)]):\n",
    "                return \"I\"\n",
    "            elif np.any([type(x_i) == type(None) for x_i in x_intersec]) :\n",
    "                return \"O\"\n",
    "            elif tol > eps and num_iters<max_iters:\n",
    "                queue.append(x_intersec)\n",
    "        else:\n",
    "            return \"O\"\n",
    "    return \"B\""
   ]
  },
  {
   "cell_type": "code",
   "execution_count": 129,
   "id": "e9dc8cd1",
   "metadata": {
    "scrolled": false
   },
   "outputs": [
    {
     "name": "stdout",
     "output_type": "stream",
     "text": [
      "iter 1\n",
      "\tqueue []\n",
      "\tx ([-16.0, -15.6], [-10.0, -9.6])\n",
      "\tMethod res [[-15.624, -15.072] [-30.414, -29.198]]\n",
      "\tIntersection [[-15.624, -15.6] None]\n"
     ]
    },
    {
     "data": {
      "text/plain": [
       "'O'"
      ]
     },
     "execution_count": 129,
     "metadata": {},
     "output_type": "execute_result"
    }
   ],
   "source": [
    "box = all_boxes[1025]\n",
    "f = lambda x: f_num_lam(box, x)\n",
    "df = lambda x: df_num_lam(box, x)\n",
    "iterative_method_root_exictence_default_ia(f, df, box, krawczyk, lambda_calcul)"
   ]
  },
  {
   "cell_type": "code",
   "execution_count": 130,
   "metadata": {},
   "outputs": [],
   "source": [
    "inside_boxes = []\n",
    "border_boxes = []\n",
    "pa_params = []\n",
    "\n",
    "for box in all_boxes:\n",
    "    f = lambda x: f_num_lam(box, x)\n",
    "    df = lambda x: df_num_lam(box, x)\n",
    "    result = iterative_method_root_exictence_default_ia(f, df, x_num, krawczyk, lambda_calcul, verbose=False)\n",
    "\n",
    "    if result == 'I':\n",
    "        inside_boxes.append(box)\n",
    "    elif result == 'B':\n",
    "        border_boxes.append(box)"
   ]
  },
  {
   "cell_type": "code",
   "execution_count": 131,
   "id": "cd50c61d",
   "metadata": {},
   "outputs": [
    {
     "data": {
      "image/png": "[encoded data removed]",
      "text/plain": [
       "<Figure size 1200x600 with 1 Axes>"
      ]
     },
     "metadata": {},
     "output_type": "display_data"
    }
   ],
   "source": [
    "ini_box = [[u_l, u_u], [u_l, u_u]]\n",
    "uni_plotter(inside_boxes, border_boxes, size = 2, ini_box = ini_box, title=\"Method\", \n",
    "            plot_area=plot_area_2RPR, pa_params = pa_params)"
   ]
  },
  {
   "cell_type": "code",
   "execution_count": null,
   "id": "ba7c2622",
   "metadata": {},
   "outputs": [],
   "source": []
  }
 ],
 "metadata": {
  "kernelspec": {
   "display_name": "Python 3 (ipykernel)",
   "language": "python",
   "name": "python3"
  },
  "language_info": {
   "codemirror_mode": {
    "name": "ipython",
    "version": 3
   },
   "file_extension": ".py",
   "mimetype": "text/x-python",
   "name": "python",
   "nbconvert_exporter": "python",
   "pygments_lexer": "ipython3",
   "version": "3.11.3"
  }
 },
 "nbformat": 4,
 "nbformat_minor": 5
}
